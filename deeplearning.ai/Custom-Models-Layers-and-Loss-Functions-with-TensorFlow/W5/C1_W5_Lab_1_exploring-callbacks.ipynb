{
 "cells": [
  {
   "cell_type": "markdown",
   "metadata": {
    "colab_type": "text",
    "id": "view-in-github"
   },
   "source": [
    "<a href=\"https://colab.research.google.com/github/https-deeplearning-ai/tensorflow-3-public/blob/main/Course%201%20-%20Custom%20Models%2C%20Layers%20and%20Loss%20Functions/Week%205%20-%20Callbacks/C1_W5_Lab_1_exploring-callbacks.ipynb\" target=\"_parent\"><img src=\"https://colab.research.google.com/assets/colab-badge.svg\" alt=\"Open In Colab\"/></a>"
   ]
  },
  {
   "cell_type": "markdown",
   "metadata": {
    "colab_type": "text",
    "id": "0c_TYhQOUe1j"
   },
   "source": [
    "# Ungraded Lab: Introduction to Keras callbacks\n",
    "\n",
    "In Keras, `Callback` is a Python class meant to be subclassed to provide specific functionality, with a set of methods called at various stages of training (including batch/epoch start and ends), testing, and predicting. Callbacks are useful to get a view on internal states and statistics of the model during training. The methods of the callbacks can  be called at different stages of training/evaluating/inference. Keras has available [callbacks](https://keras.io/api/callbacks/) and we'll show how you can use it in the following sections. Please click the **Open in Colab** badge above to complete this exercise in Colab. This will allow you to take advantage of the free GPU runtime (for faster training) and compatibility with all the packages needed in this notebook."
   ]
  },
  {
   "cell_type": "markdown",
   "metadata": {
    "colab_type": "text",
    "id": "Uyl69EyRQx-f"
   },
   "source": [
    "## Model methods that take callbacks\n",
    "Users can supply a list of callbacks to the following `tf.keras.Model` methods:\n",
    "* [`fit()`](https://www.tensorflow.org/versions/r2.0/api_docs/python/tf/keras/Model#fit), [`fit_generator()`](https://www.tensorflow.org/versions/r2.0/api_docs/python/tf/keras/Model#fit_generator)\n",
    "Trains the model for a fixed number of epochs (iterations over a dataset, or data yielded batch-by-batch by a Python generator).\n",
    "* [`evaluate()`](https://www.tensorflow.org/versions/r2.0/api_docs/python/tf/keras/Model#evaluate), [`evaluate_generator()`](https://www.tensorflow.org/versions/r2.0/api_docs/python/tf/keras/Model#evaluate_generator)\n",
    "Evaluates the model for given data or data generator. Outputs the loss and metric values from the evaluation.\n",
    "* [`predict()`](https://www.tensorflow.org/versions/r2.0/api_docs/python/tf/keras/Model#predict), [`predict_generator()`](https://www.tensorflow.org/versions/r2.0/api_docs/python/tf/keras/Model#predict_generator)\n",
    "Generates output predictions for the input data or data generator."
   ]
  },
  {
   "cell_type": "markdown",
   "metadata": {},
   "source": [
    "## Imports"
   ]
  },
  {
   "cell_type": "code",
   "execution_count": 1,
   "metadata": {
    "colab": {},
    "colab_type": "code",
    "id": "AlT1Kh3uA9lZ"
   },
   "outputs": [
    {
     "name": "stdout",
     "output_type": "stream",
     "text": [
      "Version:  2.1.0\n"
     ]
    }
   ],
   "source": [
    "from __future__ import absolute_import, division, print_function, unicode_literals\n",
    "\n",
    "try:\n",
    "    # %tensorflow_version only exists in Colab.\n",
    "    %tensorflow_version 2.x\n",
    "except Exception:\n",
    "    pass\n",
    "\n",
    "import tensorflow as tf\n",
    "import tensorflow_datasets as tfds\n",
    "import matplotlib.pyplot as plt\n",
    "import io\n",
    "from PIL import Image\n",
    "\n",
    "from tensorflow.keras.callbacks import TensorBoard, EarlyStopping, LearningRateScheduler, ModelCheckpoint, CSVLogger, ReduceLROnPlateau\n",
    "%load_ext tensorboard\n",
    "\n",
    "import os\n",
    "import matplotlib.pylab as plt\n",
    "import numpy as np\n",
    "import math\n",
    "import datetime\n",
    "import pandas as pd\n",
    "\n",
    "print(\"Version: \", tf.__version__)\n",
    "tf.get_logger().setLevel('INFO')"
   ]
  },
  {
   "cell_type": "markdown",
   "metadata": {
    "colab_type": "text",
    "id": "HnSljqtsXKfb"
   },
   "source": [
    "# Examples of Keras callback applications\n",
    "The following section will guide you through creating simple [Callback](https://keras.io/api/callbacks/) applications."
   ]
  },
  {
   "cell_type": "code",
   "execution_count": 2,
   "metadata": {
    "colab": {},
    "colab_type": "code",
    "id": "spskRuxvCYQE"
   },
   "outputs": [],
   "source": [
    "# Download and prepare the horses or humans dataset\n",
    "\n",
    "# horses_or_humans 3.0.0 has already been downloaded for you\n",
    "path = \"./tensorflow_datasets\"\n",
    "splits, info = tfds.load('horses_or_humans', data_dir=path, as_supervised=True, with_info=True, split=['train[:80%]', 'train[80%:]', 'test'])\n",
    "\n",
    "(train_examples, validation_examples, test_examples) = splits\n",
    "\n",
    "num_examples = info.splits['train'].num_examples\n",
    "num_classes = info.features['label'].num_classes"
   ]
  },
  {
   "cell_type": "code",
   "execution_count": 3,
   "metadata": {
    "colab": {},
    "colab_type": "code",
    "id": "veIsubKTCZsN"
   },
   "outputs": [],
   "source": [
    "SIZE = 150 #@param {type:\"slider\", min:64, max:300, step:1}\n",
    "IMAGE_SIZE = (SIZE, SIZE)"
   ]
  },
  {
   "cell_type": "code",
   "execution_count": 4,
   "metadata": {
    "colab": {},
    "colab_type": "code",
    "id": "faajLlErCb1S"
   },
   "outputs": [],
   "source": [
    "def format_image(image, label):\n",
    "  image = tf.image.resize(image, IMAGE_SIZE) / 255.0\n",
    "  return  image, label"
   ]
  },
  {
   "cell_type": "code",
   "execution_count": 5,
   "metadata": {
    "colab": {},
    "colab_type": "code",
    "id": "AVXPuU12Cdka"
   },
   "outputs": [],
   "source": [
    "BATCH_SIZE = 32 #@param {type:\"integer\"}"
   ]
  },
  {
   "cell_type": "code",
   "execution_count": 6,
   "metadata": {
    "colab": {},
    "colab_type": "code",
    "id": "0lHDkFVaCe48"
   },
   "outputs": [],
   "source": [
    "train_batches = train_examples.shuffle(num_examples // 4).map(format_image).batch(BATCH_SIZE).prefetch(1)\n",
    "validation_batches = validation_examples.map(format_image).batch(BATCH_SIZE).prefetch(1)\n",
    "test_batches = test_examples.map(format_image).batch(1)"
   ]
  },
  {
   "cell_type": "code",
   "execution_count": 7,
   "metadata": {
    "colab": {},
    "colab_type": "code",
    "id": "DxsCqEIkCgUt"
   },
   "outputs": [
    {
     "data": {
      "text/plain": [
       "TensorShape([32, 150, 150, 3])"
      ]
     },
     "execution_count": 7,
     "metadata": {},
     "output_type": "execute_result"
    }
   ],
   "source": [
    "for image_batch, label_batch in train_batches.take(1):\n",
    "  pass\n",
    "\n",
    "image_batch.shape"
   ]
  },
  {
   "cell_type": "code",
   "execution_count": 8,
   "metadata": {
    "colab": {},
    "colab_type": "code",
    "id": "iDBpWvHXCh2A"
   },
   "outputs": [],
   "source": [
    "def build_model(dense_units, input_shape=IMAGE_SIZE + (3,)):\n",
    "  model = tf.keras.models.Sequential([\n",
    "      tf.keras.layers.Conv2D(16, (3, 3), activation='relu', input_shape=input_shape),\n",
    "      tf.keras.layers.MaxPooling2D(2, 2),\n",
    "      tf.keras.layers.Conv2D(32, (3, 3), activation='relu'),\n",
    "      tf.keras.layers.MaxPooling2D(2, 2),\n",
    "      tf.keras.layers.Conv2D(64, (3, 3), activation='relu'),\n",
    "      tf.keras.layers.MaxPooling2D(2, 2),\n",
    "      tf.keras.layers.Flatten(),\n",
    "      tf.keras.layers.Dense(dense_units, activation='relu'),\n",
    "      tf.keras.layers.Dense(2, activation='softmax')\n",
    "  ])\n",
    "  return model"
   ]
  },
  {
   "cell_type": "markdown",
   "metadata": {
    "colab_type": "text",
    "id": "0ZKGkjagENSw"
   },
   "source": [
    "## [TensorBoard](https://keras.io/api/callbacks/tensorboard/)\n",
    "\n",
    "Enable visualizations for TensorBoard."
   ]
  },
  {
   "cell_type": "code",
   "execution_count": 9,
   "metadata": {
    "colab": {},
    "colab_type": "code",
    "id": "CeiD2WVEHbex"
   },
   "outputs": [],
   "source": [
    "!rm -rf logs"
   ]
  },
  {
   "cell_type": "code",
   "execution_count": 10,
   "metadata": {
    "colab": {},
    "colab_type": "code",
    "id": "PpLwPLnAEOzv"
   },
   "outputs": [
    {
     "name": "stdout",
     "output_type": "stream",
     "text": [
      "Epoch 1/10\n",
      "26/26 [==============================] - 21s 806ms/step - loss: 0.6718 - accuracy: 0.5949 - val_loss: 0.6664 - val_accuracy: 0.5122\n",
      "Epoch 2/10\n",
      "26/26 [==============================] - 20s 769ms/step - loss: 0.6190 - accuracy: 0.7117 - val_loss: 0.5923 - val_accuracy: 0.7415\n",
      "Epoch 3/10\n",
      "26/26 [==============================] - 20s 777ms/step - loss: 0.5548 - accuracy: 0.7591 - val_loss: 0.5761 - val_accuracy: 0.7220\n",
      "Epoch 4/10\n",
      "26/26 [==============================] - 20s 765ms/step - loss: 0.4943 - accuracy: 0.7737 - val_loss: 0.4535 - val_accuracy: 0.7805\n",
      "Epoch 5/10\n",
      "26/26 [==============================] - 20s 769ms/step - loss: 0.4654 - accuracy: 0.7895 - val_loss: 0.4283 - val_accuracy: 0.8488\n",
      "Epoch 6/10\n",
      "26/26 [==============================] - 20s 762ms/step - loss: 0.3895 - accuracy: 0.8370 - val_loss: 0.3737 - val_accuracy: 0.8780\n",
      "Epoch 7/10\n",
      "26/26 [==============================] - 20s 769ms/step - loss: 0.3378 - accuracy: 0.8564 - val_loss: 0.2947 - val_accuracy: 0.8927\n",
      "Epoch 8/10\n",
      "26/26 [==============================] - 20s 765ms/step - loss: 0.2828 - accuracy: 0.8881 - val_loss: 0.2158 - val_accuracy: 0.9610\n",
      "Epoch 9/10\n",
      "26/26 [==============================] - 20s 766ms/step - loss: 0.2442 - accuracy: 0.9246 - val_loss: 0.1730 - val_accuracy: 0.9756\n",
      "Epoch 10/10\n",
      "26/26 [==============================] - 20s 769ms/step - loss: 0.1830 - accuracy: 0.9465 - val_loss: 0.1372 - val_accuracy: 0.9805\n"
     ]
    },
    {
     "data": {
      "text/plain": [
       "<tensorflow.python.keras.callbacks.History at 0x7fc579733210>"
      ]
     },
     "execution_count": 10,
     "metadata": {},
     "output_type": "execute_result"
    }
   ],
   "source": [
    "model = build_model(dense_units=256)\n",
    "model.compile(\n",
    "    optimizer='sgd',\n",
    "    loss='sparse_categorical_crossentropy', \n",
    "    metrics=['accuracy'])\n",
    "  \n",
    "logdir = os.path.join(\"logs\", datetime.datetime.now().strftime(\"%Y%m%d-%H%M%S\"))\n",
    "tensorboard_callback = tf.keras.callbacks.TensorBoard(logdir)\n",
    "\n",
    "model.fit(train_batches, \n",
    "          epochs=10, \n",
    "          validation_data=validation_batches, \n",
    "          callbacks=[tensorboard_callback])"
   ]
  },
  {
   "cell_type": "code",
   "execution_count": 11,
   "metadata": {
    "colab": {},
    "colab_type": "code",
    "id": "iJunWOjZE0ir"
   },
   "outputs": [
    {
     "data": {
      "text/html": [
       "\n",
       "      <iframe id=\"tensorboard-frame-72cee4c65981c5b1\" width=\"100%\" height=\"800\" frameborder=\"0\">\n",
       "      </iframe>\n",
       "      <script>\n",
       "        (function() {\n",
       "          const frame = document.getElementById(\"tensorboard-frame-72cee4c65981c5b1\");\n",
       "          const url = new URL(\"/\", window.location);\n",
       "          url.port = 6006;\n",
       "          frame.src = url;\n",
       "        })();\n",
       "      </script>\n",
       "  "
      ],
      "text/plain": [
       "<IPython.core.display.HTML object>"
      ]
     },
     "metadata": {},
     "output_type": "display_data"
    }
   ],
   "source": [
    "%tensorboard --logdir logs"
   ]
  },
  {
   "cell_type": "markdown",
   "metadata": {
    "colab_type": "text",
    "id": "wv9H4Pc2Mfl7"
   },
   "source": [
    "## [Model Checkpoint](https://keras.io/api/callbacks/model_checkpoint/)\n",
    "\n",
    "Callback to save the Keras model or model weights at some frequency."
   ]
  },
  {
   "cell_type": "code",
   "execution_count": 12,
   "metadata": {
    "colab": {},
    "colab_type": "code",
    "id": "PYV4FJ8iMmDq"
   },
   "outputs": [
    {
     "name": "stdout",
     "output_type": "stream",
     "text": [
      "Epoch 1/5\n",
      "\n",
      "Epoch 00001: saving model to weights.01-0.64.h5\n",
      "26/26 - 21s - loss: 0.6654 - accuracy: 0.5888 - val_loss: 0.6405 - val_accuracy: 0.6244\n",
      "Epoch 2/5\n",
      "\n",
      "Epoch 00002: saving model to weights.02-0.65.h5\n",
      "26/26 - 20s - loss: 0.6199 - accuracy: 0.6715 - val_loss: 0.6502 - val_accuracy: 0.5171\n",
      "Epoch 3/5\n",
      "\n",
      "Epoch 00003: saving model to weights.03-0.52.h5\n",
      "26/26 - 20s - loss: 0.5680 - accuracy: 0.7044 - val_loss: 0.5155 - val_accuracy: 0.7902\n",
      "Epoch 4/5\n",
      "\n",
      "Epoch 00004: saving model to weights.04-0.53.h5\n",
      "26/26 - 20s - loss: 0.5069 - accuracy: 0.7603 - val_loss: 0.5274 - val_accuracy: 0.7854\n",
      "Epoch 5/5\n",
      "\n",
      "Epoch 00005: saving model to weights.05-0.55.h5\n",
      "26/26 - 20s - loss: 0.4591 - accuracy: 0.8102 - val_loss: 0.5500 - val_accuracy: 0.7024\n"
     ]
    },
    {
     "data": {
      "text/plain": [
       "<tensorflow.python.keras.callbacks.History at 0x7fc5795823d0>"
      ]
     },
     "execution_count": 12,
     "metadata": {},
     "output_type": "execute_result"
    }
   ],
   "source": [
    "model = build_model(dense_units=256)\n",
    "model.compile(\n",
    "    optimizer='sgd',\n",
    "    loss='sparse_categorical_crossentropy', \n",
    "    metrics=['accuracy'])\n",
    "  \n",
    "model.fit(train_batches, \n",
    "          epochs=5, \n",
    "          validation_data=validation_batches, \n",
    "          verbose=2,\n",
    "          callbacks=[ModelCheckpoint('weights.{epoch:02d}-{val_loss:.2f}.h5', verbose=1),\n",
    "          ])"
   ]
  },
  {
   "cell_type": "code",
   "execution_count": 13,
   "metadata": {
    "colab": {},
    "colab_type": "code",
    "id": "oGvjQ8IlMmK6"
   },
   "outputs": [
    {
     "name": "stdout",
     "output_type": "stream",
     "text": [
      "\n",
      "Epoch 00001: saving model to saved_model\n",
      "WARNING:tensorflow:From /opt/conda/lib/python3.7/site-packages/tensorflow_core/python/ops/resource_variable_ops.py:1786: calling BaseResourceVariable.__init__ (from tensorflow.python.ops.resource_variable_ops) with constraint is deprecated and will be removed in a future version.\n",
      "Instructions for updating:\n",
      "If using Keras pass *_constraint arguments to layers.\n"
     ]
    },
    {
     "name": "stderr",
     "output_type": "stream",
     "text": [
      "WARNING:tensorflow:From /opt/conda/lib/python3.7/site-packages/tensorflow_core/python/ops/resource_variable_ops.py:1786: calling BaseResourceVariable.__init__ (from tensorflow.python.ops.resource_variable_ops) with constraint is deprecated and will be removed in a future version.\n",
      "Instructions for updating:\n",
      "If using Keras pass *_constraint arguments to layers.\n"
     ]
    },
    {
     "name": "stdout",
     "output_type": "stream",
     "text": [
      "INFO:tensorflow:Assets written to: saved_model/assets\n"
     ]
    },
    {
     "name": "stderr",
     "output_type": "stream",
     "text": [
      "INFO:tensorflow:Assets written to: saved_model/assets\n"
     ]
    },
    {
     "name": "stdout",
     "output_type": "stream",
     "text": [
      "26/26 - 21s - loss: 0.6704 - accuracy: 0.5754 - val_loss: 0.6482 - val_accuracy: 0.7122\n"
     ]
    },
    {
     "data": {
      "text/plain": [
       "<tensorflow.python.keras.callbacks.History at 0x7fc5793f8f50>"
      ]
     },
     "execution_count": 13,
     "metadata": {},
     "output_type": "execute_result"
    }
   ],
   "source": [
    "model = build_model(dense_units=256)\n",
    "model.compile(\n",
    "    optimizer='sgd',\n",
    "    loss='sparse_categorical_crossentropy', \n",
    "    metrics=['accuracy'])\n",
    "  \n",
    "model.fit(train_batches, \n",
    "          epochs=1, \n",
    "          validation_data=validation_batches, \n",
    "          verbose=2,\n",
    "          callbacks=[ModelCheckpoint('saved_model', verbose=1)\n",
    "          ])"
   ]
  },
  {
   "cell_type": "code",
   "execution_count": 14,
   "metadata": {
    "colab": {},
    "colab_type": "code",
    "id": "Y1ConwoB0EjD"
   },
   "outputs": [
    {
     "name": "stdout",
     "output_type": "stream",
     "text": [
      "Epoch 1/2\n",
      "\n",
      "Epoch 00001: saving model to model.h5\n",
      "26/26 - 20s - loss: 0.6813 - accuracy: 0.5414 - val_loss: 0.6890 - val_accuracy: 0.4341\n",
      "Epoch 2/2\n",
      "\n",
      "Epoch 00002: saving model to model.h5\n",
      "26/26 - 19s - loss: 0.6605 - accuracy: 0.6083 - val_loss: 0.6637 - val_accuracy: 0.4878\n"
     ]
    },
    {
     "data": {
      "text/plain": [
       "<tensorflow.python.keras.callbacks.History at 0x7fc5791f4190>"
      ]
     },
     "execution_count": 14,
     "metadata": {},
     "output_type": "execute_result"
    }
   ],
   "source": [
    "model = build_model(dense_units=256)\n",
    "model.compile(\n",
    "    optimizer='sgd',\n",
    "    loss='sparse_categorical_crossentropy', \n",
    "    metrics=['accuracy'])\n",
    "  \n",
    "model.fit(train_batches, \n",
    "          epochs=2, \n",
    "          validation_data=validation_batches, \n",
    "          verbose=2,\n",
    "          callbacks=[ModelCheckpoint('model.h5', verbose=1)\n",
    "          ])"
   ]
  },
  {
   "cell_type": "markdown",
   "metadata": {
    "colab_type": "text",
    "id": "kptNF0--Lznv"
   },
   "source": [
    "## [Early stopping](https://keras.io/api/callbacks/early_stopping/)\n",
    "\n",
    "Stop training when a monitored metric has stopped improving."
   ]
  },
  {
   "cell_type": "code",
   "execution_count": 15,
   "metadata": {
    "colab": {},
    "colab_type": "code",
    "id": "KJOJTJYdCkdY"
   },
   "outputs": [
    {
     "name": "stdout",
     "output_type": "stream",
     "text": [
      "Epoch 1/50\n",
      "26/26 - 20s - loss: 0.6586 - accuracy: 0.6314 - val_loss: 0.6269 - val_accuracy: 0.6927\n",
      "Epoch 2/50\n",
      "26/26 - 22s - loss: 0.5968 - accuracy: 0.7105 - val_loss: 0.5662 - val_accuracy: 0.7463\n",
      "Epoch 3/50\n",
      "26/26 - 20s - loss: 0.5713 - accuracy: 0.7263 - val_loss: 0.5166 - val_accuracy: 0.7756\n",
      "Epoch 4/50\n",
      "26/26 - 20s - loss: 0.4942 - accuracy: 0.7944 - val_loss: 0.4573 - val_accuracy: 0.7854\n",
      "Epoch 5/50\n",
      "26/26 - 20s - loss: 0.4476 - accuracy: 0.8139 - val_loss: 0.5552 - val_accuracy: 0.6634\n",
      "Epoch 6/50\n",
      "26/26 - 20s - loss: 0.3800 - accuracy: 0.8382 - val_loss: 0.4258 - val_accuracy: 0.8293\n",
      "Epoch 7/50\n",
      "26/26 - 20s - loss: 0.3373 - accuracy: 0.8625 - val_loss: 0.2768 - val_accuracy: 0.9122\n",
      "Epoch 8/50\n",
      "26/26 - 20s - loss: 0.2722 - accuracy: 0.9002 - val_loss: 0.2535 - val_accuracy: 0.9122\n",
      "Epoch 9/50\n",
      "26/26 - 21s - loss: 0.2287 - accuracy: 0.9307 - val_loss: 0.2443 - val_accuracy: 0.9171\n",
      "Epoch 10/50\n",
      "26/26 - 20s - loss: 0.1676 - accuracy: 0.9574 - val_loss: 0.1655 - val_accuracy: 0.9463\n",
      "Epoch 11/50\n",
      "26/26 - 20s - loss: 0.1416 - accuracy: 0.9659 - val_loss: 0.1579 - val_accuracy: 0.9415\n",
      "Epoch 12/50\n",
      "26/26 - 20s - loss: 0.1125 - accuracy: 0.9769 - val_loss: 0.0947 - val_accuracy: 0.9902\n",
      "Epoch 13/50\n",
      "26/26 - 20s - loss: 0.0980 - accuracy: 0.9720 - val_loss: 0.0752 - val_accuracy: 0.9902\n",
      "Epoch 14/50\n",
      "26/26 - 20s - loss: 0.0950 - accuracy: 0.9757 - val_loss: 0.0765 - val_accuracy: 0.9805\n",
      "Epoch 15/50\n",
      "Restoring model weights from the end of the best epoch.\n",
      "26/26 - 20s - loss: 0.0722 - accuracy: 0.9891 - val_loss: 0.0712 - val_accuracy: 0.9805\n",
      "Epoch 00015: early stopping\n"
     ]
    },
    {
     "data": {
      "text/plain": [
       "<tensorflow.python.keras.callbacks.History at 0x7fc579044410>"
      ]
     },
     "execution_count": 15,
     "metadata": {},
     "output_type": "execute_result"
    }
   ],
   "source": [
    "model = build_model(dense_units=256)\n",
    "model.compile(\n",
    "    optimizer='sgd',\n",
    "    loss='sparse_categorical_crossentropy', \n",
    "    metrics=['accuracy'])\n",
    "  \n",
    "model.fit(train_batches, \n",
    "          epochs=50, \n",
    "          validation_data=validation_batches, \n",
    "          verbose=2,\n",
    "          callbacks=[EarlyStopping(\n",
    "              patience=3,\n",
    "              min_delta=0.05,\n",
    "              baseline=0.8,\n",
    "              mode='min',\n",
    "              monitor='val_loss',\n",
    "              restore_best_weights=True,\n",
    "              verbose=1)\n",
    "          ])"
   ]
  },
  {
   "cell_type": "markdown",
   "metadata": {
    "colab_type": "text",
    "id": "8mDzWUD4Pqq5"
   },
   "source": [
    "## [CSV Logger](https://keras.io/api/callbacks/csv_logger/)\n",
    "\n",
    "Callback that streams epoch results to a CSV file."
   ]
  },
  {
   "cell_type": "code",
   "execution_count": 16,
   "metadata": {
    "colab": {},
    "colab_type": "code",
    "id": "cffnMpmGPtMh"
   },
   "outputs": [
    {
     "name": "stdout",
     "output_type": "stream",
     "text": [
      "Epoch 1/5\n",
      "26/26 [==============================] - 21s 801ms/step - loss: 0.6772 - accuracy: 0.5474 - val_loss: 0.6591 - val_accuracy: 0.8000\n",
      "Epoch 2/5\n",
      "26/26 [==============================] - 21s 801ms/step - loss: 0.6319 - accuracy: 0.7470 - val_loss: 0.6453 - val_accuracy: 0.5366\n",
      "Epoch 3/5\n",
      "26/26 [==============================] - 22s 862ms/step - loss: 0.5733 - accuracy: 0.7616 - val_loss: 0.6296 - val_accuracy: 0.5512\n",
      "Epoch 4/5\n",
      "26/26 [==============================] - 23s 869ms/step - loss: 0.4903 - accuracy: 0.8005 - val_loss: 0.4541 - val_accuracy: 0.8585\n",
      "Epoch 5/5\n",
      "26/26 [==============================] - 22s 839ms/step - loss: 0.4441 - accuracy: 0.8224 - val_loss: 0.3586 - val_accuracy: 0.8780\n"
     ]
    },
    {
     "data": {
      "text/plain": [
       "<tensorflow.python.keras.callbacks.History at 0x7fc578fb1e10>"
      ]
     },
     "execution_count": 16,
     "metadata": {},
     "output_type": "execute_result"
    }
   ],
   "source": [
    "model = build_model(dense_units=256)\n",
    "model.compile(\n",
    "    optimizer='sgd',\n",
    "    loss='sparse_categorical_crossentropy', \n",
    "    metrics=['accuracy'])\n",
    "  \n",
    "csv_file = 'training.csv'\n",
    "\n",
    "model.fit(train_batches, \n",
    "          epochs=5, \n",
    "          validation_data=validation_batches, \n",
    "          callbacks=[CSVLogger(csv_file)\n",
    "          ])"
   ]
  },
  {
   "cell_type": "code",
   "execution_count": 17,
   "metadata": {
    "colab": {},
    "colab_type": "code",
    "id": "B9tkYi03QV7R"
   },
   "outputs": [
    {
     "data": {
      "text/html": [
       "<div>\n",
       "<style scoped>\n",
       "    .dataframe tbody tr th:only-of-type {\n",
       "        vertical-align: middle;\n",
       "    }\n",
       "\n",
       "    .dataframe tbody tr th {\n",
       "        vertical-align: top;\n",
       "    }\n",
       "\n",
       "    .dataframe thead th {\n",
       "        text-align: right;\n",
       "    }\n",
       "</style>\n",
       "<table border=\"1\" class=\"dataframe\">\n",
       "  <thead>\n",
       "    <tr style=\"text-align: right;\">\n",
       "      <th></th>\n",
       "      <th>epoch</th>\n",
       "      <th>accuracy</th>\n",
       "      <th>loss</th>\n",
       "      <th>val_accuracy</th>\n",
       "      <th>val_loss</th>\n",
       "    </tr>\n",
       "  </thead>\n",
       "  <tbody>\n",
       "    <tr>\n",
       "      <th>0</th>\n",
       "      <td>0</td>\n",
       "      <td>0.547445</td>\n",
       "      <td>0.677462</td>\n",
       "      <td>0.800000</td>\n",
       "      <td>0.659132</td>\n",
       "    </tr>\n",
       "    <tr>\n",
       "      <th>1</th>\n",
       "      <td>1</td>\n",
       "      <td>0.746959</td>\n",
       "      <td>0.631845</td>\n",
       "      <td>0.536585</td>\n",
       "      <td>0.645303</td>\n",
       "    </tr>\n",
       "    <tr>\n",
       "      <th>2</th>\n",
       "      <td>2</td>\n",
       "      <td>0.761557</td>\n",
       "      <td>0.573608</td>\n",
       "      <td>0.551219</td>\n",
       "      <td>0.629637</td>\n",
       "    </tr>\n",
       "    <tr>\n",
       "      <th>3</th>\n",
       "      <td>3</td>\n",
       "      <td>0.800487</td>\n",
       "      <td>0.491448</td>\n",
       "      <td>0.858537</td>\n",
       "      <td>0.454133</td>\n",
       "    </tr>\n",
       "    <tr>\n",
       "      <th>4</th>\n",
       "      <td>4</td>\n",
       "      <td>0.822384</td>\n",
       "      <td>0.444714</td>\n",
       "      <td>0.878049</td>\n",
       "      <td>0.358627</td>\n",
       "    </tr>\n",
       "  </tbody>\n",
       "</table>\n",
       "</div>"
      ],
      "text/plain": [
       "   epoch  accuracy      loss  val_accuracy  val_loss\n",
       "0      0  0.547445  0.677462      0.800000  0.659132\n",
       "1      1  0.746959  0.631845      0.536585  0.645303\n",
       "2      2  0.761557  0.573608      0.551219  0.629637\n",
       "3      3  0.800487  0.491448      0.858537  0.454133\n",
       "4      4  0.822384  0.444714      0.878049  0.358627"
      ]
     },
     "execution_count": 17,
     "metadata": {},
     "output_type": "execute_result"
    }
   ],
   "source": [
    "pd.read_csv(csv_file).head()"
   ]
  },
  {
   "cell_type": "markdown",
   "metadata": {
    "colab_type": "text",
    "id": "Dt9C2Y9fRBKN"
   },
   "source": [
    "## [Learning Rate Scheduler](https://keras.io/api/callbacks/learning_rate_scheduler/)\n",
    "\n",
    "Updates the learning rate during training."
   ]
  },
  {
   "cell_type": "code",
   "execution_count": 18,
   "metadata": {
    "colab": {},
    "colab_type": "code",
    "id": "aJi-xY2VRC03"
   },
   "outputs": [
    {
     "name": "stdout",
     "output_type": "stream",
     "text": [
      "\n",
      "Epoch 00001: LearningRateScheduler reducing learning rate to 0.005.\n",
      "Epoch 1/5\n",
      "26/26 [==============================] - 35s 1s/step - loss: 0.6792 - accuracy: 0.5499 - val_loss: 0.6319 - val_accuracy: 0.7415\n",
      "\n",
      "Epoch 00002: LearningRateScheduler reducing learning rate to 0.0025.\n",
      "Epoch 2/5\n",
      "26/26 [==============================] - 23s 887ms/step - loss: 0.6218 - accuracy: 0.6959 - val_loss: 0.6183 - val_accuracy: 0.7024\n",
      "\n",
      "Epoch 00003: LearningRateScheduler reducing learning rate to 0.00125.\n",
      "Epoch 3/5\n",
      "26/26 [==============================] - 22s 846ms/step - loss: 0.5996 - accuracy: 0.7384 - val_loss: 0.6067 - val_accuracy: 0.7171\n",
      "\n",
      "Epoch 00004: LearningRateScheduler reducing learning rate to 0.000625.\n",
      "Epoch 4/5\n",
      "26/26 [==============================] - 23s 892ms/step - loss: 0.5879 - accuracy: 0.7567 - val_loss: 0.6009 - val_accuracy: 0.7171\n",
      "\n",
      "Epoch 00005: LearningRateScheduler reducing learning rate to 0.0003125.\n",
      "Epoch 5/5\n",
      "26/26 [==============================] - 22s 857ms/step - loss: 0.5821 - accuracy: 0.7628 - val_loss: 0.5996 - val_accuracy: 0.7220\n"
     ]
    },
    {
     "data": {
      "text/plain": [
       "<tensorflow.python.keras.callbacks.History at 0x7fc571fe9490>"
      ]
     },
     "execution_count": 18,
     "metadata": {},
     "output_type": "execute_result"
    }
   ],
   "source": [
    "model = build_model(dense_units=256)\n",
    "model.compile(\n",
    "    optimizer='sgd',\n",
    "    loss='sparse_categorical_crossentropy', \n",
    "    metrics=['accuracy'])\n",
    "  \n",
    "def step_decay(epoch):\n",
    "\tinitial_lr = 0.01\n",
    "\tdrop = 0.5\n",
    "\tepochs_drop = 1\n",
    "\tlr = initial_lr * math.pow(drop, math.floor((1+epoch)/epochs_drop))\n",
    "\treturn lr\n",
    "\n",
    "model.fit(train_batches, \n",
    "          epochs=5, \n",
    "          validation_data=validation_batches, \n",
    "          callbacks=[LearningRateScheduler(step_decay, verbose=1),\n",
    "                    TensorBoard(log_dir='./log_dir')])"
   ]
  },
  {
   "cell_type": "code",
   "execution_count": 19,
   "metadata": {
    "colab": {},
    "colab_type": "code",
    "id": "M2S4n8nrbV91"
   },
   "outputs": [
    {
     "data": {
      "text/html": [
       "\n",
       "      <iframe id=\"tensorboard-frame-5753740d2c1898ea\" width=\"100%\" height=\"800\" frameborder=\"0\">\n",
       "      </iframe>\n",
       "      <script>\n",
       "        (function() {\n",
       "          const frame = document.getElementById(\"tensorboard-frame-5753740d2c1898ea\");\n",
       "          const url = new URL(\"/\", window.location);\n",
       "          url.port = 6007;\n",
       "          frame.src = url;\n",
       "        })();\n",
       "      </script>\n",
       "  "
      ],
      "text/plain": [
       "<IPython.core.display.HTML object>"
      ]
     },
     "metadata": {},
     "output_type": "display_data"
    }
   ],
   "source": [
    "%tensorboard --logdir log_dir"
   ]
  },
  {
   "cell_type": "markdown",
   "metadata": {
    "colab_type": "text",
    "id": "y0wcuQyJE_UK"
   },
   "source": [
    "## [ReduceLROnPlateau](https://keras.io/api/callbacks/reduce_lr_on_plateau/)\n",
    "\n",
    "Reduce learning rate when a metric has stopped improving."
   ]
  },
  {
   "cell_type": "code",
   "execution_count": 20,
   "metadata": {
    "colab": {},
    "colab_type": "code",
    "id": "4naxZ-eCFB27"
   },
   "outputs": [
    {
     "name": "stdout",
     "output_type": "stream",
     "text": [
      "Epoch 1/50\n",
      "26/26 [==============================] - 25s 952ms/step - loss: 0.6692 - accuracy: 0.5888 - val_loss: 0.6434 - val_accuracy: 0.6537\n",
      "Epoch 2/50\n",
      "26/26 [==============================] - 21s 806ms/step - loss: 0.6077 - accuracy: 0.6922 - val_loss: 0.5818 - val_accuracy: 0.7366\n",
      "Epoch 3/50\n",
      "25/26 [===========================>..] - ETA: 0s - loss: 0.5640 - accuracy: 0.7138\n",
      "Epoch 00003: ReduceLROnPlateau reducing learning rate to 0.0019999999552965165.\n",
      "26/26 [==============================] - 20s 786ms/step - loss: 0.5620 - accuracy: 0.7178 - val_loss: 0.6412 - val_accuracy: 0.5854\n",
      "Epoch 4/50\n",
      "26/26 [==============================] - 20s 766ms/step - loss: 0.5133 - accuracy: 0.7555 - val_loss: 0.5252 - val_accuracy: 0.7463\n",
      "Epoch 5/50\n",
      "26/26 [==============================] - 20s 776ms/step - loss: 0.4982 - accuracy: 0.7701 - val_loss: 0.5247 - val_accuracy: 0.7805\n",
      "Epoch 6/50\n",
      "26/26 [==============================] - 20s 781ms/step - loss: 0.4891 - accuracy: 0.7749 - val_loss: 0.5109 - val_accuracy: 0.7854\n",
      "Epoch 7/50\n",
      "26/26 [==============================] - 21s 804ms/step - loss: 0.4761 - accuracy: 0.7859 - val_loss: 0.4888 - val_accuracy: 0.7463\n",
      "Epoch 8/50\n",
      "26/26 [==============================] - 21s 796ms/step - loss: 0.4653 - accuracy: 0.7810 - val_loss: 0.4840 - val_accuracy: 0.7951\n",
      "Epoch 9/50\n",
      "26/26 [==============================] - 20s 781ms/step - loss: 0.4568 - accuracy: 0.7883 - val_loss: 0.4729 - val_accuracy: 0.8049\n",
      "Epoch 10/50\n",
      "26/26 [==============================] - 20s 761ms/step - loss: 0.4432 - accuracy: 0.8029 - val_loss: 0.4569 - val_accuracy: 0.7561\n",
      "Epoch 11/50\n",
      "26/26 [==============================] - 20s 758ms/step - loss: 0.4326 - accuracy: 0.8090 - val_loss: 0.4539 - val_accuracy: 0.8098\n",
      "Epoch 12/50\n",
      "26/26 [==============================] - 20s 766ms/step - loss: 0.4205 - accuracy: 0.8200 - val_loss: 0.4497 - val_accuracy: 0.8293\n",
      "Epoch 13/50\n",
      "26/26 [==============================] - 21s 800ms/step - loss: 0.4140 - accuracy: 0.8224 - val_loss: 0.4417 - val_accuracy: 0.8341\n",
      "Epoch 14/50\n",
      "26/26 [==============================] - 21s 795ms/step - loss: 0.4039 - accuracy: 0.8345 - val_loss: 0.4099 - val_accuracy: 0.8195\n",
      "Epoch 15/50\n",
      "26/26 [==============================] - 20s 782ms/step - loss: 0.3901 - accuracy: 0.8358 - val_loss: 0.3976 - val_accuracy: 0.8244\n",
      "Epoch 16/50\n",
      "25/26 [===========================>..] - ETA: 0s - loss: 0.3849 - accuracy: 0.8438\n",
      "Epoch 00016: ReduceLROnPlateau reducing learning rate to 0.001.\n",
      "26/26 [==============================] - 20s 784ms/step - loss: 0.3801 - accuracy: 0.8467 - val_loss: 0.4099 - val_accuracy: 0.8488\n",
      "Epoch 17/50\n",
      "26/26 [==============================] - 20s 785ms/step - loss: 0.3714 - accuracy: 0.8674 - val_loss: 0.3933 - val_accuracy: 0.8537\n",
      "Epoch 18/50\n",
      "25/26 [===========================>..] - ETA: 0s - loss: 0.3599 - accuracy: 0.8687\n",
      "Epoch 00018: ReduceLROnPlateau reducing learning rate to 0.001.\n",
      "26/26 [==============================] - 21s 800ms/step - loss: 0.3625 - accuracy: 0.8674 - val_loss: 0.3957 - val_accuracy: 0.8585\n",
      "Epoch 19/50\n",
      "26/26 [==============================] - 21s 800ms/step - loss: 0.3552 - accuracy: 0.8796 - val_loss: 0.3776 - val_accuracy: 0.8732\n",
      "Epoch 20/50\n",
      "26/26 [==============================] - 21s 816ms/step - loss: 0.3517 - accuracy: 0.8674 - val_loss: 0.3680 - val_accuracy: 0.8829\n",
      "Epoch 21/50\n",
      "26/26 [==============================] - 20s 788ms/step - loss: 0.3437 - accuracy: 0.8893 - val_loss: 0.3549 - val_accuracy: 0.8488\n",
      "Epoch 22/50\n",
      "25/26 [===========================>..] - ETA: 0s - loss: 0.3409 - accuracy: 0.8737\n",
      "Epoch 00022: ReduceLROnPlateau reducing learning rate to 0.001.\n",
      "26/26 [==============================] - 21s 816ms/step - loss: 0.3383 - accuracy: 0.8747 - val_loss: 0.3724 - val_accuracy: 0.8829\n",
      "Epoch 23/50\n",
      "26/26 [==============================] - 21s 820ms/step - loss: 0.3333 - accuracy: 0.8942 - val_loss: 0.3431 - val_accuracy: 0.8585\n",
      "Epoch 24/50\n",
      "26/26 [==============================] - 21s 814ms/step - loss: 0.3288 - accuracy: 0.8832 - val_loss: 0.3375 - val_accuracy: 0.8537\n",
      "Epoch 25/50\n",
      "26/26 [==============================] - 20s 786ms/step - loss: 0.3207 - accuracy: 0.8881 - val_loss: 0.3365 - val_accuracy: 0.8829\n",
      "Epoch 26/50\n",
      "26/26 [==============================] - 20s 784ms/step - loss: 0.3141 - accuracy: 0.8978 - val_loss: 0.3328 - val_accuracy: 0.8927\n",
      "Epoch 27/50\n",
      "25/26 [===========================>..] - ETA: 0s - loss: 0.3108 - accuracy: 0.9013\n",
      "Epoch 00027: ReduceLROnPlateau reducing learning rate to 0.001.\n",
      "26/26 [==============================] - 21s 800ms/step - loss: 0.3084 - accuracy: 0.9027 - val_loss: 0.3376 - val_accuracy: 0.9024\n",
      "Epoch 28/50\n",
      "26/26 [==============================] - 20s 781ms/step - loss: 0.3041 - accuracy: 0.9039 - val_loss: 0.3142 - val_accuracy: 0.8780\n",
      "Epoch 29/50\n",
      "25/26 [===========================>..] - ETA: 0s - loss: 0.2942 - accuracy: 0.9000\n",
      "Epoch 00029: ReduceLROnPlateau reducing learning rate to 0.001.\n",
      "26/26 [==============================] - 19s 750ms/step - loss: 0.2967 - accuracy: 0.8990 - val_loss: 0.3159 - val_accuracy: 0.8976\n",
      "Epoch 30/50\n",
      "26/26 [==============================] - 21s 796ms/step - loss: 0.2902 - accuracy: 0.9051 - val_loss: 0.3100 - val_accuracy: 0.8976\n",
      "Epoch 31/50\n",
      "26/26 [==============================] - 20s 754ms/step - loss: 0.2859 - accuracy: 0.8990 - val_loss: 0.2977 - val_accuracy: 0.8878\n",
      "Epoch 32/50\n",
      "25/26 [===========================>..] - ETA: 0s - loss: 0.2809 - accuracy: 0.9112\n",
      "Epoch 00032: ReduceLROnPlateau reducing learning rate to 0.001.\n",
      "26/26 [==============================] - 20s 769ms/step - loss: 0.2773 - accuracy: 0.9124 - val_loss: 0.3508 - val_accuracy: 0.8829\n",
      "Epoch 33/50\n",
      "26/26 [==============================] - 21s 823ms/step - loss: 0.2780 - accuracy: 0.9100 - val_loss: 0.2884 - val_accuracy: 0.8878\n",
      "Epoch 34/50\n",
      "26/26 [==============================] - 20s 769ms/step - loss: 0.2696 - accuracy: 0.9234 - val_loss: 0.2811 - val_accuracy: 0.8976\n",
      "Epoch 35/50\n",
      "25/26 [===========================>..] - ETA: 0s - loss: 0.2660 - accuracy: 0.9150\n",
      "Epoch 00035: ReduceLROnPlateau reducing learning rate to 0.001.\n",
      "26/26 [==============================] - 20s 758ms/step - loss: 0.2628 - accuracy: 0.9161 - val_loss: 0.2932 - val_accuracy: 0.9122\n",
      "Epoch 36/50\n",
      "25/26 [===========================>..] - ETA: 0s - loss: 0.2594 - accuracy: 0.9250\n",
      "Epoch 00036: ReduceLROnPlateau reducing learning rate to 0.001.\n",
      "26/26 [==============================] - 20s 757ms/step - loss: 0.2589 - accuracy: 0.9246 - val_loss: 0.3366 - val_accuracy: 0.8829\n",
      "Epoch 37/50\n",
      "26/26 [==============================] - 21s 789ms/step - loss: 0.2549 - accuracy: 0.9270 - val_loss: 0.2710 - val_accuracy: 0.9171\n",
      "Epoch 38/50\n",
      "26/26 [==============================] - 20s 773ms/step - loss: 0.2498 - accuracy: 0.9197 - val_loss: 0.2669 - val_accuracy: 0.9268\n",
      "Epoch 39/50\n",
      "25/26 [===========================>..] - ETA: 0s - loss: 0.2430 - accuracy: 0.9275\n",
      "Epoch 00039: ReduceLROnPlateau reducing learning rate to 0.001.\n",
      "26/26 [==============================] - 20s 765ms/step - loss: 0.2455 - accuracy: 0.9282 - val_loss: 0.2930 - val_accuracy: 0.9024\n",
      "Epoch 40/50\n",
      "26/26 [==============================] - 20s 761ms/step - loss: 0.2375 - accuracy: 0.9294 - val_loss: 0.2521 - val_accuracy: 0.9024\n",
      "Epoch 41/50\n",
      "25/26 [===========================>..] - ETA: 0s - loss: 0.2384 - accuracy: 0.9312\n",
      "Epoch 00041: ReduceLROnPlateau reducing learning rate to 0.001.\n",
      "26/26 [==============================] - 20s 781ms/step - loss: 0.2412 - accuracy: 0.9282 - val_loss: 0.2545 - val_accuracy: 0.8976\n",
      "Epoch 42/50\n",
      "26/26 [==============================] - 20s 757ms/step - loss: 0.2262 - accuracy: 0.9453 - val_loss: 0.2426 - val_accuracy: 0.9317\n",
      "Epoch 43/50\n",
      "25/26 [===========================>..] - ETA: 0s - loss: 0.2252 - accuracy: 0.9388\n",
      "Epoch 00043: ReduceLROnPlateau reducing learning rate to 0.001.\n",
      "26/26 [==============================] - 20s 777ms/step - loss: 0.2228 - accuracy: 0.9404 - val_loss: 0.2525 - val_accuracy: 0.9268\n",
      "Epoch 44/50\n",
      "26/26 [==============================] - 20s 754ms/step - loss: 0.2160 - accuracy: 0.9428 - val_loss: 0.2362 - val_accuracy: 0.9024\n",
      "Epoch 45/50\n",
      "26/26 [==============================] - 20s 761ms/step - loss: 0.2170 - accuracy: 0.9392 - val_loss: 0.2292 - val_accuracy: 0.9268\n",
      "Epoch 46/50\n",
      "25/26 [===========================>..] - ETA: 0s - loss: 0.2054 - accuracy: 0.9500\n",
      "Epoch 00046: ReduceLROnPlateau reducing learning rate to 0.001.\n",
      "26/26 [==============================] - 20s 765ms/step - loss: 0.2045 - accuracy: 0.9501 - val_loss: 0.2759 - val_accuracy: 0.9073\n",
      "Epoch 47/50\n",
      "25/26 [===========================>..] - ETA: 0s - loss: 0.2067 - accuracy: 0.9425\n",
      "Epoch 00047: ReduceLROnPlateau reducing learning rate to 0.001.\n",
      "26/26 [==============================] - 20s 761ms/step - loss: 0.2032 - accuracy: 0.9440 - val_loss: 0.2533 - val_accuracy: 0.9268\n",
      "Epoch 48/50\n",
      "26/26 [==============================] - 20s 785ms/step - loss: 0.1993 - accuracy: 0.9501 - val_loss: 0.2170 - val_accuracy: 0.9317\n",
      "Epoch 49/50\n",
      "25/26 [===========================>..] - ETA: 0s - loss: 0.1953 - accuracy: 0.9475\n",
      "Epoch 00049: ReduceLROnPlateau reducing learning rate to 0.001.\n",
      "26/26 [==============================] - 20s 758ms/step - loss: 0.1933 - accuracy: 0.9489 - val_loss: 0.3325 - val_accuracy: 0.8927\n",
      "Epoch 50/50\n",
      "26/26 [==============================] - 20s 758ms/step - loss: 0.1887 - accuracy: 0.9489 - val_loss: 0.2121 - val_accuracy: 0.9415\n"
     ]
    },
    {
     "data": {
      "text/plain": [
       "<tensorflow.python.keras.callbacks.History at 0x7fc57901c650>"
      ]
     },
     "execution_count": 20,
     "metadata": {},
     "output_type": "execute_result"
    }
   ],
   "source": [
    "model = build_model(dense_units=256)\n",
    "model.compile(\n",
    "    optimizer='sgd',\n",
    "    loss='sparse_categorical_crossentropy', \n",
    "    metrics=['accuracy'])\n",
    "  \n",
    "model.fit(train_batches, \n",
    "          epochs=50, \n",
    "          validation_data=validation_batches, \n",
    "          callbacks=[ReduceLROnPlateau(monitor='val_loss', \n",
    "                                       factor=0.2, verbose=1,\n",
    "                                       patience=1, min_lr=0.001),\n",
    "                     TensorBoard(log_dir='./log_dir')])"
   ]
  },
  {
   "cell_type": "code",
   "execution_count": 21,
   "metadata": {
    "colab": {},
    "colab_type": "code",
    "id": "isfTWP4NYudk"
   },
   "outputs": [
    {
     "data": {
      "text/plain": [
       "Reusing TensorBoard on port 6007 (pid 4870), started 0:17:01 ago. (Use '!kill 4870' to kill it.)"
      ]
     },
     "metadata": {},
     "output_type": "display_data"
    },
    {
     "data": {
      "text/html": [
       "\n",
       "      <iframe id=\"tensorboard-frame-c0f7f177bac7d4bb\" width=\"100%\" height=\"800\" frameborder=\"0\">\n",
       "      </iframe>\n",
       "      <script>\n",
       "        (function() {\n",
       "          const frame = document.getElementById(\"tensorboard-frame-c0f7f177bac7d4bb\");\n",
       "          const url = new URL(\"/\", window.location);\n",
       "          url.port = 6007;\n",
       "          frame.src = url;\n",
       "        })();\n",
       "      </script>\n",
       "  "
      ],
      "text/plain": [
       "<IPython.core.display.HTML object>"
      ]
     },
     "metadata": {},
     "output_type": "display_data"
    }
   ],
   "source": [
    "%tensorboard --logdir log_dir"
   ]
  }
 ],
 "metadata": {
  "colab": {
   "collapsed_sections": [],
   "include_colab_link": true,
   "name": "ExploringCallbacks.ipynb",
   "provenance": []
  },
  "kernelspec": {
   "display_name": "Python 3",
   "language": "python",
   "name": "python3"
  },
  "language_info": {
   "codemirror_mode": {
    "name": "ipython",
    "version": 3
   },
   "file_extension": ".py",
   "mimetype": "text/x-python",
   "name": "python",
   "nbconvert_exporter": "python",
   "pygments_lexer": "ipython3",
   "version": "3.7.6"
  }
 },
 "nbformat": 4,
 "nbformat_minor": 4
}
